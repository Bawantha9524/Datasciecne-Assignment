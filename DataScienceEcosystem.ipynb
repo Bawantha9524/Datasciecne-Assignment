{
 "cells": [
  {
   "cell_type": "markdown",
   "id": "7952beb0-b657-4f36-8451-e6387c36069d",
   "metadata": {},
   "source": [
    "# Data Science Tools and Ecosystem"
   ]
  },
  {
   "cell_type": "markdown",
   "id": "77052543-55d2-45c9-ad4a-2f0db34a8ac2",
   "metadata": {},
   "source": [
    "## In this notebook, Data Science Tools and Ecosystem are summarized."
   ]
  },
  {
   "cell_type": "markdown",
   "id": "16e941e4-f8aa-47df-a9ce-351eee8e98dc",
   "metadata": {},
   "source": [
    "**Objectives:**\n",
    "\n",
    "- Some of the popular languages that Data Scientists\n",
    "- Some of the commonly used libraries used by Data Scientists\n",
    "- Data Science Tools\n",
    "- Examples of evaluating arithmetic expressions in Python\n",
    "- Minutes to hours converter"
   ]
  },
  {
   "cell_type": "markdown",
   "id": "d3e3e344-aadc-4fc7-b47e-4ffee0e08b3b",
   "metadata": {},
   "source": [
    "# Some of the popular languages that Data Scientists use are:\n",
    "- Python\n",
    "- R\n",
    "- SQL"
   ]
  },
  {
   "cell_type": "markdown",
   "id": "79f72523-0fad-43b2-8ad1-c026d652c392",
   "metadata": {},
   "source": [
    "# Some of the commonly used libraries used by Data Scientists include:\n",
    "- Pandas\n",
    "- SciKit Learn\n",
    "- Matplotlib"
   ]
  },
  {
   "cell_type": "markdown",
   "id": "e5ee16b6-9fd3-4c76-bfb2-568784d957e2",
   "metadata": {},
   "source": [
    "| Data Science Tools |\n",
    "|--------------------|\n",
    "| Jupyter Notebook   |\n",
    "| RStudio            |\n",
    "| Apache Zeppelin    |\n",
    "\n"
   ]
  },
  {
   "cell_type": "markdown",
   "id": "e980e469-98c5-401d-9149-2f3a67772ab9",
   "metadata": {},
   "source": [
    "### Below are a few examples of evaluating arithmetic expressions in Python"
   ]
  },
  {
   "cell_type": "code",
   "execution_count": 1,
   "id": "91554bc5-21f5-42a1-b6df-370eb3c7f4af",
   "metadata": {},
   "outputs": [
    {
     "data": {
      "text/plain": [
       "17"
      ]
     },
     "execution_count": 1,
     "metadata": {},
     "output_type": "execute_result"
    }
   ],
   "source": [
    "# This a simple arithmetic expression to mutiply then add integers\n",
    "(3*4)+5"
   ]
  },
  {
   "cell_type": "code",
   "execution_count": 6,
   "id": "45ea85a4-7178-4572-a50e-b247c10c40d1",
   "metadata": {},
   "outputs": [
    {
     "name": "stdout",
     "output_type": "stream",
     "text": [
      "3.3333333333333335 Hours\n"
     ]
    }
   ],
   "source": [
    "# This will convert 200 minutes to hours by diving by 60\n",
    "print(200/60,'Hours')"
   ]
  },
  {
   "cell_type": "markdown",
   "id": "bd537d70-b6c5-4627-be9d-35a469986401",
   "metadata": {},
   "source": [
    "## Author\n",
    "Bawantha Rathnayaka"
   ]
  },
  {
   "cell_type": "code",
   "execution_count": null,
   "id": "af7f15f0-c9f9-4dea-a0bb-abe706173650",
   "metadata": {},
   "outputs": [],
   "source": []
  },
  {
   "cell_type": "code",
   "execution_count": null,
   "id": "23399f35-74dc-4a0b-bd8e-0fc7ef765e20",
   "metadata": {},
   "outputs": [],
   "source": []
  }
 ],
 "metadata": {
  "kernelspec": {
   "display_name": "Python 3 (ipykernel)",
   "language": "python",
   "name": "python3"
  },
  "language_info": {
   "codemirror_mode": {
    "name": "ipython",
    "version": 3
   },
   "file_extension": ".py",
   "mimetype": "text/x-python",
   "name": "python",
   "nbconvert_exporter": "python",
   "pygments_lexer": "ipython3",
   "version": "3.12.8"
  }
 },
 "nbformat": 4,
 "nbformat_minor": 5
}
